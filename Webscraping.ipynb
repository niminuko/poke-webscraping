{
 "cells": [
  {
   "cell_type": "markdown",
   "metadata": {},
   "source": [
    "# BeautifulSoup: Creating the Pokédex with Webscraping\n",
    "This Juyter Notebook aims at creating a `pandas` DataFrame from [a pokemon database](https://pokemondb.net/pokedex/all), as well as collecting icon images for training a generative adversarial network in a separate Jupyter Notebook.\n",
    "\n",
    "To begin, import `requests` and `bs4`. Connect to the URL and make soup of it using an LXML parser."
   ]
  },
  {
   "cell_type": "code",
   "execution_count": 1,
   "metadata": {},
   "outputs": [],
   "source": [
    "import requests\n",
    "from bs4 import BeautifulSoup\n",
    "\n",
    "url = 'https://pokemondb.net/pokedex/all'\n",
    "r = requests.get(url)\n",
    "html_contents = r.text\n",
    "\n",
    "html_soup = BeautifulSoup(html_contents, 'lxml')"
   ]
  },
  {
   "cell_type": "markdown",
   "metadata": {},
   "source": [
    "The DataFrame is going to be built from `td` tags with the following `class` values: `cell-name`, `cell-icon`, `cell-total`, and `cell-num`. A good start would be `cell-name`:"
   ]
  },
  {
   "cell_type": "code",
   "execution_count": 2,
   "metadata": {},
   "outputs": [
    {
     "data": {
      "text/plain": [
       "[<td class=\"cell-name\"><a class=\"ent-name\" href=\"/pokedex/bulbasaur\" title=\"View pokedex for #001 Bulbasaur\">Bulbasaur</a></td>,\n",
       " <td class=\"cell-name\"><a class=\"ent-name\" href=\"/pokedex/ivysaur\" title=\"View pokedex for #002 Ivysaur\">Ivysaur</a></td>,\n",
       " <td class=\"cell-name\"><a class=\"ent-name\" href=\"/pokedex/venusaur\" title=\"View pokedex for #003 Venusaur\">Venusaur</a></td>,\n",
       " <td class=\"cell-name\"><a class=\"ent-name\" href=\"/pokedex/venusaur\" title=\"View pokedex for #003 Venusaur\">Venusaur</a><br/> <small class=\"text-muted\">Mega Venusaur</small></td>,\n",
       " <td class=\"cell-name\"><a class=\"ent-name\" href=\"/pokedex/charmander\" title=\"View pokedex for #004 Charmander\">Charmander</a></td>]"
      ]
     },
     "execution_count": 2,
     "metadata": {},
     "output_type": "execute_result"
    }
   ],
   "source": [
    "cell_name = html_soup.findAll('td', {'class':'cell-name'})\n",
    "cell_name[:5]"
   ]
  },
  {
   "cell_type": "markdown",
   "metadata": {},
   "source": [
    "Regex can be used to get rid of the HTML tags gathered from scraping the page. Some Pokémon have special titles (check the above list) given away by `<small class=\"text-muted\">`. This information can be used to successfully format all the names within the `cell-name` soup."
   ]
  },
  {
   "cell_type": "code",
   "execution_count": 3,
   "metadata": {},
   "outputs": [
    {
     "name": "stderr",
     "output_type": "stream",
     "text": [
      "100%|██████████| 1034/1034 [05:36<00:00,  3.08it/s]\n"
     ]
    }
   ],
   "source": [
    "import re \n",
    "from tqdm import tqdm\n",
    "\n",
    "def strip_html(string):\n",
    "    return re.compile(r'<[^>]+>').sub('', string)\n",
    "\n",
    "number = []\n",
    "pokemon = []\n",
    "\n",
    "for idx in tqdm(range(len(cell_name))):\n",
    "    entry = str(html_soup.findAll('td', {'class':'cell-name'})[idx]).split('-muted\">')[-1]\n",
    "    cleaned_name = strip_html(entry)\n",
    "    pokemon.append(cleaned_name)\n",
    "    \n",
    "    num_entry = str(html_soup.findAll('td', {'class':'cell-name'})[idx]).split('#')[-1]\n",
    "    number.append(num_entry[:3])"
   ]
  },
  {
   "cell_type": "code",
   "execution_count": 4,
   "metadata": {},
   "outputs": [
    {
     "data": {
      "text/plain": [
       "['Bulbasaur', 'Ivysaur', 'Venusaur', 'Mega Venusaur', 'Charmander']"
      ]
     },
     "execution_count": 4,
     "metadata": {},
     "output_type": "execute_result"
    }
   ],
   "source": [
    "pokemon[:5]"
   ]
  },
  {
   "cell_type": "code",
   "execution_count": 5,
   "metadata": {},
   "outputs": [
    {
     "data": {
      "text/plain": [
       "['001', '002', '003', '003', '004']"
      ]
     },
     "execution_count": 5,
     "metadata": {},
     "output_type": "execute_result"
    }
   ],
   "source": [
    "number[:5]"
   ]
  },
  {
   "cell_type": "markdown",
   "metadata": {},
   "source": [
    "Each Pokémon has its type(s) listed in `cell-icon`, which can be cleaned from its HTML tags and placed into a list."
   ]
  },
  {
   "cell_type": "code",
   "execution_count": 6,
   "metadata": {},
   "outputs": [
    {
     "data": {
      "text/plain": [
       "[<td class=\"cell-icon\"><a class=\"type-icon type-grass\" href=\"/type/grass\">Grass</a><br/> <a class=\"type-icon type-poison\" href=\"/type/poison\">Poison</a></td>,\n",
       " <td class=\"cell-icon\"><a class=\"type-icon type-grass\" href=\"/type/grass\">Grass</a><br/> <a class=\"type-icon type-poison\" href=\"/type/poison\">Poison</a></td>,\n",
       " <td class=\"cell-icon\"><a class=\"type-icon type-grass\" href=\"/type/grass\">Grass</a><br/> <a class=\"type-icon type-poison\" href=\"/type/poison\">Poison</a></td>,\n",
       " <td class=\"cell-icon\"><a class=\"type-icon type-grass\" href=\"/type/grass\">Grass</a><br/> <a class=\"type-icon type-poison\" href=\"/type/poison\">Poison</a></td>,\n",
       " <td class=\"cell-icon\"><a class=\"type-icon type-fire\" href=\"/type/fire\">Fire</a><br/> </td>]"
      ]
     },
     "execution_count": 6,
     "metadata": {},
     "output_type": "execute_result"
    }
   ],
   "source": [
    "cell_icon = html_soup.findAll('td', {'class':'cell-icon'})\n",
    "cell_icon[:5]"
   ]
  },
  {
   "cell_type": "markdown",
   "metadata": {},
   "source": [
    "If a Pokémon only has a single type, the HMTL stripping will leave whitespace at the end and therefore make a list entry with `''` as an element. To fix this, simply apply the `.strip()` method before the `.split(' ')`:"
   ]
  },
  {
   "cell_type": "code",
   "execution_count": 7,
   "metadata": {},
   "outputs": [
    {
     "name": "stderr",
     "output_type": "stream",
     "text": [
      "100%|██████████| 1034/1034 [02:49<00:00,  6.09it/s]\n"
     ]
    }
   ],
   "source": [
    "poke_type = []\n",
    "for idx in tqdm(range(len(cell_icon))):\n",
    "    types = strip_html(str(html_soup.findAll('td', {'class':'cell-icon'})[idx])).strip().split(' ')\n",
    "    poke_type.append(types)"
   ]
  },
  {
   "cell_type": "code",
   "execution_count": 8,
   "metadata": {},
   "outputs": [
    {
     "data": {
      "text/plain": [
       "[['Grass', 'Poison'],\n",
       " ['Grass', 'Poison'],\n",
       " ['Grass', 'Poison'],\n",
       " ['Grass', 'Poison'],\n",
       " ['Fire']]"
      ]
     },
     "execution_count": 8,
     "metadata": {},
     "output_type": "execute_result"
    }
   ],
   "source": [
    "poke_type[:5]"
   ]
  },
  {
   "cell_type": "markdown",
   "metadata": {},
   "source": [
    "The Pokémon icons can be gathered from the `data-src` tag, and the values can be rolled into a list for HP, Attack, Defense, Sp. Atk, Sp. Def, and Speed, respectively."
   ]
  },
  {
   "cell_type": "code",
   "execution_count": 9,
   "metadata": {},
   "outputs": [
    {
     "data": {
      "text/plain": [
       "[<td class=\"cell-num cell-fixed\" data-sort-value=\"1\"><span class=\"infocard-cell-img\"><span class=\"img-fixed icon-pkmn\" data-alt=\"Bulbasaur icon\" data-src=\"https://img.pokemondb.net/sprites/sword-shield/icon/bulbasaur.png\"></span></span><span class=\"infocard-cell-data\">001</span></td>,\n",
       " <td class=\"cell-num\">45</td>,\n",
       " <td class=\"cell-num\">49</td>,\n",
       " <td class=\"cell-num\">49</td>,\n",
       " <td class=\"cell-num\">65</td>,\n",
       " <td class=\"cell-num\">65</td>,\n",
       " <td class=\"cell-num\">45</td>,\n",
       " <td class=\"cell-num cell-fixed\" data-sort-value=\"2\"><span class=\"infocard-cell-img\"><span class=\"img-fixed icon-pkmn\" data-alt=\"Ivysaur icon\" data-src=\"https://img.pokemondb.net/sprites/sword-shield/icon/ivysaur.png\"></span></span><span class=\"infocard-cell-data\">002</span></td>,\n",
       " <td class=\"cell-num\">60</td>,\n",
       " <td class=\"cell-num\">62</td>]"
      ]
     },
     "execution_count": 9,
     "metadata": {},
     "output_type": "execute_result"
    }
   ],
   "source": [
    "cell_num = html_soup.findAll('td', {'class':'cell-num'})\n",
    "cell_num[:10]"
   ]
  },
  {
   "cell_type": "markdown",
   "metadata": {},
   "source": [
    "The icon URLs occur as every 7th element (from the first element) and can be gathered from a `.split()` string using `\"` as a delimiter."
   ]
  },
  {
   "cell_type": "code",
   "execution_count": 10,
   "metadata": {},
   "outputs": [
    {
     "data": {
      "text/plain": [
       "'https://img.pokemondb.net/sprites/sword-shield/icon/bulbasaur.png'"
      ]
     },
     "execution_count": 10,
     "metadata": {},
     "output_type": "execute_result"
    }
   ],
   "source": [
    "str(cell_num[0]).split('\\\"')[-4]"
   ]
  },
  {
   "cell_type": "code",
   "execution_count": 11,
   "metadata": {},
   "outputs": [],
   "source": [
    "icon_url = []\n",
    "\n",
    "for idx in range(len(cell_num)):\n",
    "    if idx % 7 == 0:\n",
    "        icon_url.append(str(cell_num[idx]).split('\\\"')[-4])"
   ]
  },
  {
   "cell_type": "code",
   "execution_count": 12,
   "metadata": {},
   "outputs": [
    {
     "data": {
      "text/plain": [
       "['https://img.pokemondb.net/sprites/sword-shield/icon/bulbasaur.png',\n",
       " 'https://img.pokemondb.net/sprites/sword-shield/icon/ivysaur.png',\n",
       " 'https://img.pokemondb.net/sprites/sword-shield/icon/venusaur.png',\n",
       " 'https://img.pokemondb.net/sprites/sword-shield/icon/venusaur-mega.png']"
      ]
     },
     "execution_count": 12,
     "metadata": {},
     "output_type": "execute_result"
    }
   ],
   "source": [
    "icon_url[:4]"
   ]
  },
  {
   "cell_type": "markdown",
   "metadata": {},
   "source": [
    "Of course, the other data occur as every 7th element from their respective beginnings: each HP stat is every 7th from the first HP stat, every ATK stat is every 7th from the first ATK stat, and so on. While the following may not be the most elegant nor Pythonic, it captures the data in a form that can easily be appended into a DataFrame later."
   ]
  },
  {
   "cell_type": "code",
   "execution_count": 32,
   "metadata": {},
   "outputs": [],
   "source": [
    "stats = ['HP', 'ATK', 'DEF', 'Sp.ATK', 'Sp.DEF', 'SPD']\n",
    "stats_dic = {}\n",
    "\n",
    "for count, stat in enumerate(stats):\n",
    "    stats_dic[stat] = [strip_html(str(cell_num[idx + (count + 1)])) for idx in range(len(cell_num)) if idx % 7 == 0]"
   ]
  },
  {
   "cell_type": "code",
   "execution_count": 35,
   "metadata": {},
   "outputs": [
    {
     "data": {
      "text/plain": [
       "['49', '62', '82', '100', '52']"
      ]
     },
     "execution_count": 35,
     "metadata": {},
     "output_type": "execute_result"
    }
   ],
   "source": [
    "stats_dic['ATK'][:5]"
   ]
  },
  {
   "cell_type": "markdown",
   "metadata": {},
   "source": [
    "With `cell-total`, either a summation can span the above elements for each listing or the HTML can be mined."
   ]
  },
  {
   "cell_type": "code",
   "execution_count": 41,
   "metadata": {},
   "outputs": [
    {
     "data": {
      "text/plain": [
       "['318', '405', '525', '625', '309']"
      ]
     },
     "execution_count": 41,
     "metadata": {},
     "output_type": "execute_result"
    }
   ],
   "source": [
    "cell_total = html_soup.findAll('td', {'class':'cell-total'})\n",
    "total = [strip_html(str(cell)) for cell in cell_total]\n",
    "total[:5]"
   ]
  },
  {
   "cell_type": "markdown",
   "metadata": {},
   "source": [
    "Now that all of the necessary information has been scraped from the Pokémon database, the Pokédex can be created as a `pandas` DataFrame."
   ]
  },
  {
   "cell_type": "code",
   "execution_count": 57,
   "metadata": {},
   "outputs": [],
   "source": [
    "import pandas as pd\n",
    "\n",
    "pokedex = pd.DataFrame()\n",
    "\n",
    "pokedex['#'] = number\n",
    "pokedex['Pokémon'] = pokemon\n",
    "pokedex['Type'] = poke_type\n",
    "\n",
    "for stat in stats_dic:\n",
    "    pokedex[stat] = stats_dic[stat]\n",
    "    \n",
    "pokedex['Total'] = total\n",
    "pokedex['URLs'] = icon_url"
   ]
  },
  {
   "cell_type": "code",
   "execution_count": 58,
   "metadata": {},
   "outputs": [
    {
     "data": {
      "text/html": [
       "<div>\n",
       "<style scoped>\n",
       "    .dataframe tbody tr th:only-of-type {\n",
       "        vertical-align: middle;\n",
       "    }\n",
       "\n",
       "    .dataframe tbody tr th {\n",
       "        vertical-align: top;\n",
       "    }\n",
       "\n",
       "    .dataframe thead th {\n",
       "        text-align: right;\n",
       "    }\n",
       "</style>\n",
       "<table border=\"1\" class=\"dataframe\">\n",
       "  <thead>\n",
       "    <tr style=\"text-align: right;\">\n",
       "      <th></th>\n",
       "      <th>#</th>\n",
       "      <th>Pokémon</th>\n",
       "      <th>Type</th>\n",
       "      <th>HP</th>\n",
       "      <th>ATK</th>\n",
       "      <th>DEF</th>\n",
       "      <th>Sp.ATK</th>\n",
       "      <th>Sp.DEF</th>\n",
       "      <th>SPD</th>\n",
       "      <th>Total</th>\n",
       "      <th>URLs</th>\n",
       "    </tr>\n",
       "  </thead>\n",
       "  <tbody>\n",
       "    <tr>\n",
       "      <th>0</th>\n",
       "      <td>001</td>\n",
       "      <td>Bulbasaur</td>\n",
       "      <td>[Grass, Poison]</td>\n",
       "      <td>45</td>\n",
       "      <td>49</td>\n",
       "      <td>49</td>\n",
       "      <td>65</td>\n",
       "      <td>65</td>\n",
       "      <td>45</td>\n",
       "      <td>318</td>\n",
       "      <td>https://img.pokemondb.net/sprites/sword-shield...</td>\n",
       "    </tr>\n",
       "    <tr>\n",
       "      <th>1</th>\n",
       "      <td>002</td>\n",
       "      <td>Ivysaur</td>\n",
       "      <td>[Grass, Poison]</td>\n",
       "      <td>60</td>\n",
       "      <td>62</td>\n",
       "      <td>63</td>\n",
       "      <td>80</td>\n",
       "      <td>80</td>\n",
       "      <td>60</td>\n",
       "      <td>405</td>\n",
       "      <td>https://img.pokemondb.net/sprites/sword-shield...</td>\n",
       "    </tr>\n",
       "    <tr>\n",
       "      <th>2</th>\n",
       "      <td>003</td>\n",
       "      <td>Venusaur</td>\n",
       "      <td>[Grass, Poison]</td>\n",
       "      <td>80</td>\n",
       "      <td>82</td>\n",
       "      <td>83</td>\n",
       "      <td>100</td>\n",
       "      <td>100</td>\n",
       "      <td>80</td>\n",
       "      <td>525</td>\n",
       "      <td>https://img.pokemondb.net/sprites/sword-shield...</td>\n",
       "    </tr>\n",
       "    <tr>\n",
       "      <th>3</th>\n",
       "      <td>003</td>\n",
       "      <td>Mega Venusaur</td>\n",
       "      <td>[Grass, Poison]</td>\n",
       "      <td>80</td>\n",
       "      <td>100</td>\n",
       "      <td>123</td>\n",
       "      <td>122</td>\n",
       "      <td>120</td>\n",
       "      <td>80</td>\n",
       "      <td>625</td>\n",
       "      <td>https://img.pokemondb.net/sprites/sword-shield...</td>\n",
       "    </tr>\n",
       "    <tr>\n",
       "      <th>4</th>\n",
       "      <td>004</td>\n",
       "      <td>Charmander</td>\n",
       "      <td>[Fire]</td>\n",
       "      <td>39</td>\n",
       "      <td>52</td>\n",
       "      <td>43</td>\n",
       "      <td>60</td>\n",
       "      <td>50</td>\n",
       "      <td>65</td>\n",
       "      <td>309</td>\n",
       "      <td>https://img.pokemondb.net/sprites/sword-shield...</td>\n",
       "    </tr>\n",
       "  </tbody>\n",
       "</table>\n",
       "</div>"
      ],
      "text/plain": [
       "     #        Pokémon             Type  HP  ATK  DEF Sp.ATK Sp.DEF SPD Total  \\\n",
       "0  001      Bulbasaur  [Grass, Poison]  45   49   49     65     65  45   318   \n",
       "1  002        Ivysaur  [Grass, Poison]  60   62   63     80     80  60   405   \n",
       "2  003       Venusaur  [Grass, Poison]  80   82   83    100    100  80   525   \n",
       "3  003  Mega Venusaur  [Grass, Poison]  80  100  123    122    120  80   625   \n",
       "4  004     Charmander           [Fire]  39   52   43     60     50  65   309   \n",
       "\n",
       "                                                URLs  \n",
       "0  https://img.pokemondb.net/sprites/sword-shield...  \n",
       "1  https://img.pokemondb.net/sprites/sword-shield...  \n",
       "2  https://img.pokemondb.net/sprites/sword-shield...  \n",
       "3  https://img.pokemondb.net/sprites/sword-shield...  \n",
       "4  https://img.pokemondb.net/sprites/sword-shield...  "
      ]
     },
     "execution_count": 58,
     "metadata": {},
     "output_type": "execute_result"
    }
   ],
   "source": [
    "pokedex.head()"
   ]
  },
  {
   "cell_type": "markdown",
   "metadata": {},
   "source": [
    "The `pandas` DataFrame can finally be exported to a `.CSV` file."
   ]
  },
  {
   "cell_type": "code",
   "execution_count": 59,
   "metadata": {},
   "outputs": [],
   "source": [
    "pokedex.to_csv('pokedex.csv');"
   ]
  },
  {
   "cell_type": "markdown",
   "metadata": {},
   "source": [
    "![](https://img.pokemondb.net/sprites/sword-shield/icon/charizard.png)"
   ]
  }
 ],
 "metadata": {
  "kernelspec": {
   "display_name": "Python 3",
   "language": "python",
   "name": "python3"
  },
  "language_info": {
   "codemirror_mode": {
    "name": "ipython",
    "version": 3
   },
   "file_extension": ".py",
   "mimetype": "text/x-python",
   "name": "python",
   "nbconvert_exporter": "python",
   "pygments_lexer": "ipython3",
   "version": "3.8.3"
  }
 },
 "nbformat": 4,
 "nbformat_minor": 4
}
